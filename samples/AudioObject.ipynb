{
 "cells": [
  {
   "cell_type": "markdown",
   "metadata": {},
   "source": [
    "# audio obj example usage"
   ]
  },
  {
   "cell_type": "code",
   "execution_count": 8,
   "metadata": {},
   "outputs": [],
   "source": [
    "from audio import AudioObject, normalize\n",
    "\n",
    "import matplotlib.pyplot as plt\n",
    "from scipy.io import wavfile\n",
    "from scipy.signal import butter"
   ]
  },
  {
   "cell_type": "code",
   "execution_count": 12,
   "metadata": {},
   "outputs": [],
   "source": [
    "wav_path = \"/Users/cirorandazzo/code/callback-analysis/tests/0toes2mics20240801122415-Stim0-Block0.wav\"\n",
    "\n",
    "# Filter parameters: 8pole butterpass bandworth filter or wtv the kids are saying these days\n",
    "f_low, f_high = (500, 15000)\n",
    "b, a = butter(8, [f_low, f_high], btype=\"bandpass\", fs=fs)\n",
    "\n",
    "n = 1024  # window length\n",
    "overlap = 1020\n",
    "\n",
    "plot_spectrogram_kwargs = {\n",
    "    \"cmap\": \"magma\",\n",
    "}"
   ]
  },
  {
   "cell_type": "code",
   "execution_count": null,
   "metadata": {},
   "outputs": [],
   "source": [
    "fs, audio = wavfile.read(wav_path)\n",
    "audio = normalize(audio[:, 0])  # only take first channel\n",
    "\n",
    "bird_audio = AudioObject(\n",
    "    audio,\n",
    "    fs,\n",
    "    b,\n",
    "    a,\n",
    "    # do_spectrogram=True,  # plots spectrogram with default params\n",
    ")\n",
    "\n",
    "bird_audio.make_spectrogram(\n",
    "    n,\n",
    "    overlap,\n",
    "    normalize_range=(0, 1),\n",
    ")"
   ]
  },
  {
   "cell_type": "code",
   "execution_count": null,
   "metadata": {},
   "outputs": [],
   "source": [
    "ax = bird_audio.plot_spectrogram(**plot_spectrogram_kwargs)\n",
    "\n",
    "plt.show()"
   ]
  },
  {
   "cell_type": "code",
   "execution_count": null,
   "metadata": {},
   "outputs": [],
   "source": [
    "# alternative loading\n",
    "bird_audio = AudioObject.from_wav(\n",
    "    wav_path,\n",
    "    channel=0,\n",
    ")\n",
    "\n",
    "bird_audio.filtfilt_butter_default(f_low=500, f_high=15000, poles=8)\n",
    "bird_audio.rectify_smooth(smooth_window_f=20)\n",
    "\n",
    "fig, axs = plt.subplots(nrows=3, sharex=True)\n",
    "\n",
    "axs[0].plot(bird_audio.audio)\n",
    "axs[0].set_title(\"Raw audio\")\n",
    "\n",
    "axs[1].plot(bird_audio.audio_filt)\n",
    "axs[1].set_title(\"Filtered audio (default settings)\")\n",
    "\n",
    "axs[2].plot(bird_audio.audio_frs)\n",
    "axs[2].set_title(\"Filtered/rectified/smoothed audio\")\n",
    "\n",
    "plt.show()"
   ]
  }
 ],
 "metadata": {
  "kernelspec": {
   "display_name": "callback-analysis",
   "language": "python",
   "name": "python3"
  },
  "language_info": {
   "codemirror_mode": {
    "name": "ipython",
    "version": 3
   },
   "file_extension": ".py",
   "mimetype": "text/x-python",
   "name": "python",
   "nbconvert_exporter": "python",
   "pygments_lexer": "ipython3",
   "version": "3.11.9"
  }
 },
 "nbformat": 4,
 "nbformat_minor": 2
}
